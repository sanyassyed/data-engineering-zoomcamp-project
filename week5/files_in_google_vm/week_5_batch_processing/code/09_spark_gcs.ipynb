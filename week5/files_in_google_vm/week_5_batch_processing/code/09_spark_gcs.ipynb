{
 "cells": [
  {
   "cell_type": "code",
   "execution_count": 12,
   "id": "8e1ed66c",
   "metadata": {},
   "outputs": [],
   "source": [
    "# Stop spark session\n",
    "# spark.stop()\n",
    "# del SparkContext\n",
    "# sc.stop()"
   ]
  },
  {
   "cell_type": "code",
   "execution_count": 1,
   "id": "0f4c3fbc",
   "metadata": {},
   "outputs": [],
   "source": [
    "import pyspark\n",
    "from pyspark.sql import SparkSession\n",
    "from pyspark.conf import SparkConf\n",
    "from pyspark.context import SparkContext"
   ]
  },
  {
   "cell_type": "code",
   "execution_count": 2,
   "id": "0fe56568",
   "metadata": {},
   "outputs": [
    {
     "name": "stdout",
     "output_type": "stream",
     "text": [
      "Current Directory: /home/sanyashireen/week_5_batch_processing/code\n",
      "Data Directory: /home/sanyashireen/week_5_batch_processing/data\n",
      "Changing directory to parent directory: /home/sanyashireen/week_5_batch_processing\n"
     ]
    }
   ],
   "source": [
    "import os\n",
    "# Setting the working directory where the lib folder is\n",
    "os.chdir('/home/sanyashireen/week_5_batch_processing')\n",
    "print(f'Changing directory to parent directory: {os.getcwd()}')"
   ]
  },
  {
   "cell_type": "code",
   "execution_count": 4,
   "id": "96ae59b8",
   "metadata": {},
   "outputs": [],
   "source": [
    "credentials_location = '/home/sanyashireen/.google/credentials/google_credentials.json'\n",
    "conf = SparkConf() \\\n",
    "    .setMaster('local[*]') \\\n",
    "    .setAppName('test') \\\n",
    "    .set(\"spark.jars\", \"./lib/gcs-connector-hadoop3-2.2.5.jar\") \\\n",
    "    .set(\"spark.hadoop.google.cloud.auth.service.account.enable\", \"true\") \\\n",
    "    .set(\"spark.hadoop.google.cloud.auth.service.account.json.keyfile\", credentials_location)"
   ]
  },
  {
   "cell_type": "code",
   "execution_count": 5,
   "id": "0885cf27",
   "metadata": {},
   "outputs": [
    {
     "name": "stderr",
     "output_type": "stream",
     "text": [
      "WARNING: An illegal reflective access operation has occurred\n",
      "WARNING: Illegal reflective access by org.apache.spark.unsafe.Platform (file:/home/sanyashireen/spark/spark-3.2.3-bin-hadoop3.2/jars/spark-unsafe_2.12-3.2.3.jar) to constructor java.nio.DirectByteBuffer(long,int)\n",
      "WARNING: Please consider reporting this to the maintainers of org.apache.spark.unsafe.Platform\n",
      "WARNING: Use --illegal-access=warn to enable warnings of further illegal reflective access operations\n",
      "WARNING: All illegal access operations will be denied in a future release\n",
      "23/02/28 21:07:37 WARN NativeCodeLoader: Unable to load native-hadoop library for your platform... using builtin-java classes where applicable\n",
      "Using Spark's default log4j profile: org/apache/spark/log4j-defaults.properties\n",
      "Setting default log level to \"WARN\".\n",
      "To adjust logging level use sc.setLogLevel(newLevel). For SparkR, use setLogLevel(newLevel).\n"
     ]
    }
   ],
   "source": [
    "sc = SparkContext(conf=conf)\n",
    "\n",
    "hadoop_conf = sc._jsc.hadoopConfiguration()\n",
    "\n",
    "hadoop_conf.set(\"fs.AbstractFileSystem.gs.impl\",  \"com.google.cloud.hadoop.fs.gcs.GoogleHadoopFS\")\n",
    "hadoop_conf.set(\"fs.gs.impl\", \"com.google.cloud.hadoop.fs.gcs.GoogleHadoopFileSystem\")\n",
    "hadoop_conf.set(\"fs.gs.auth.service.account.json.keyfile\", credentials_location)\n",
    "hadoop_conf.set(\"fs.gs.auth.service.account.enable\", \"true\")"
   ]
  },
  {
   "cell_type": "code",
   "execution_count": 6,
   "id": "3f2fface",
   "metadata": {},
   "outputs": [],
   "source": [
    "spark = SparkSession.builder \\\n",
    "                    .config(conf=sc.getConf()) \\\n",
    "                    .getOrCreate()"
   ]
  },
  {
   "cell_type": "markdown",
   "id": "8288f43b",
   "metadata": {},
   "source": [
    "## Uploading Parquet files from local to GCS"
   ]
  },
  {
   "cell_type": "code",
   "execution_count": null,
   "id": "3a4a2efa",
   "metadata": {},
   "outputs": [],
   "source": [
    "# Uploading all the files from data/pq to GCS bucket\n",
    "# Excute the following command from the data folder in CLI\n",
    "# gsutil -m cp -r pq/ gs://dtc_data_lake_blissful-flames-375219/pq"
   ]
  },
  {
   "cell_type": "code",
   "execution_count": 10,
   "id": "7a0afa25",
   "metadata": {},
   "outputs": [],
   "source": [
    "# Reading all the green taxi data from GCS\n",
    "# Path: Stop at the root folder that contains all the parts of one file\n",
    "# Eg: The root folder data/green/2021/01 contains all the partitions for the month on January which is one file\n",
    "#df_green = spark.read.parquet('gs://dtc_data_lake_blissful-flames-375219/pq/green/*/*')\n",
    "df_green = spark.read.parquet('gs://dtc_data_lake_blissful-flames-375219/pq/green/*/*')"
   ]
  },
  {
   "cell_type": "code",
   "execution_count": 11,
   "id": "5643d0ae",
   "metadata": {},
   "outputs": [
    {
     "name": "stderr",
     "output_type": "stream",
     "text": [
      "                                                                                \r"
     ]
    },
    {
     "data": {
      "text/plain": [
       "2304517"
      ]
     },
     "execution_count": 11,
     "metadata": {},
     "output_type": "execute_result"
    }
   ],
   "source": [
    "df_green.count()"
   ]
  }
 ],
 "metadata": {
  "kernelspec": {
   "display_name": "Python 3 (ipykernel)",
   "language": "python",
   "name": "python3"
  },
  "language_info": {
   "codemirror_mode": {
    "name": "ipython",
    "version": 3
   },
   "file_extension": ".py",
   "mimetype": "text/x-python",
   "name": "python",
   "nbconvert_exporter": "python",
   "pygments_lexer": "ipython3",
   "version": "3.9.13"
  }
 },
 "nbformat": 4,
 "nbformat_minor": 5
}
