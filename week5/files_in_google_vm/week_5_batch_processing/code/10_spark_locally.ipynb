{
 "cells": [
  {
   "cell_type": "code",
   "execution_count": 1,
   "id": "0f4c3fbc",
   "metadata": {},
   "outputs": [],
   "source": [
    "import pyspark\n",
    "from pyspark.sql import SparkSession"
   ]
  },
  {
   "cell_type": "code",
   "execution_count": 2,
   "id": "96ae59b8",
   "metadata": {},
   "outputs": [
    {
     "name": "stderr",
     "output_type": "stream",
     "text": [
      "WARNING: An illegal reflective access operation has occurred\n",
      "WARNING: Illegal reflective access by org.apache.spark.unsafe.Platform (file:/home/sanyashireen/spark/spark-3.2.3-bin-hadoop3.2/jars/spark-unsafe_2.12-3.2.3.jar) to constructor java.nio.DirectByteBuffer(long,int)\n",
      "WARNING: Please consider reporting this to the maintainers of org.apache.spark.unsafe.Platform\n",
      "WARNING: Use --illegal-access=warn to enable warnings of further illegal reflective access operations\n",
      "WARNING: All illegal access operations will be denied in a future release\n",
      "Using Spark's default log4j profile: org/apache/spark/log4j-defaults.properties\n",
      "Setting default log level to \"WARN\".\n",
      "To adjust logging level use sc.setLogLevel(newLevel). For SparkR, use setLogLevel(newLevel).\n",
      "23/03/01 17:33:22 WARN NativeCodeLoader: Unable to load native-hadoop library for your platform... using builtin-java classes where applicable\n"
     ]
    }
   ],
   "source": [
    "spark = SparkSession.builder \\\n",
    "    .master(\"spark://de-zoomcamp.us-central1-c.c.blissful-flames-375219.internal:7077\") \\\n",
    "    .appName('test') \\\n",
    "    .getOrCreate()\n",
    "    #.master(\"spark://localhost:7077\") \\"
   ]
  },
  {
   "cell_type": "code",
   "execution_count": 3,
   "id": "b1aed8ba",
   "metadata": {},
   "outputs": [
    {
     "data": {
      "text/html": [
       "\n",
       "            <div>\n",
       "                <p><b>SparkSession - in-memory</b></p>\n",
       "                \n",
       "        <div>\n",
       "            <p><b>SparkContext</b></p>\n",
       "\n",
       "            <p><a href=\"http://de-zoomcamp.us-central1-c.c.blissful-flames-375219.internal:4040\">Spark UI</a></p>\n",
       "\n",
       "            <dl>\n",
       "              <dt>Version</dt>\n",
       "                <dd><code>v3.2.3</code></dd>\n",
       "              <dt>Master</dt>\n",
       "                <dd><code>spark://de-zoomcamp.us-central1-c.c.blissful-flames-375219.internal:7077</code></dd>\n",
       "              <dt>AppName</dt>\n",
       "                <dd><code>test</code></dd>\n",
       "            </dl>\n",
       "        </div>\n",
       "        \n",
       "            </div>\n",
       "        "
      ],
      "text/plain": [
       "<pyspark.sql.session.SparkSession at 0x7fada827ce80>"
      ]
     },
     "execution_count": 3,
     "metadata": {},
     "output_type": "execute_result"
    }
   ],
   "source": [
    "spark"
   ]
  },
  {
   "cell_type": "code",
   "execution_count": 4,
   "id": "0fe56568",
   "metadata": {},
   "outputs": [
    {
     "name": "stdout",
     "output_type": "stream",
     "text": [
      "Current Directory: /home/sanyashireen/week_5_batch_processing/code\n",
      "Data Directory: /home/sanyashireen/week_5_batch_processing/data\n",
      "Changing directory to Data directory: /home/sanyashireen/week_5_batch_processing/data\n"
     ]
    }
   ],
   "source": [
    "import os\n",
    "\n",
    "# Setting the working directory\n",
    "working_dir = os.getcwd()\n",
    "parent_working_dir = os.path.dirname(working_dir) \n",
    "data_dir = os.path.join(parent_working_dir, 'data')\n",
    "print(f'Current Directory: {working_dir}')\n",
    "print(f'Data Directory: {data_dir}')\n",
    "\n",
    "# Moving to the data directory\n",
    "os.chdir(data_dir)\n",
    "print(f'Changing directory to Data directory: {os.getcwd()}')"
   ]
  },
  {
   "cell_type": "code",
   "execution_count": 5,
   "id": "7a0afa25",
   "metadata": {},
   "outputs": [
    {
     "name": "stderr",
     "output_type": "stream",
     "text": [
      "                                                                                \r"
     ]
    }
   ],
   "source": [
    "# Adding all green taxi data for 2020 and 2021 to one PySpark DF\n",
    "# Path: Stop at the root folder that contains all the parts of one file\n",
    "# Eg: The root folder data/green/2021/01 contains all the partitions for the month on January which is one file\n",
    "df_green = spark.read.parquet(f'{data_dir}/pq/green/*/*')"
   ]
  },
  {
   "cell_type": "code",
   "execution_count": 6,
   "id": "5643d0ae",
   "metadata": {},
   "outputs": [
    {
     "name": "stderr",
     "output_type": "stream",
     "text": [
      "\r",
      "[Stage 1:>                                                          (0 + 1) / 1]\r"
     ]
    },
    {
     "name": "stdout",
     "output_type": "stream",
     "text": [
      "+--------+--------------------+---------------------+------------------+----------+------------+------------+---------------+-------------+-----------+-----+-------+----------+------------+---------+---------------------+------------+------------+---------+--------------------+\n",
      "|VendorID|lpep_pickup_datetime|lpep_dropoff_datetime|store_and_fwd_flag|RatecodeID|PULocationID|DOLocationID|passenger_count|trip_distance|fare_amount|extra|mta_tax|tip_amount|tolls_amount|ehail_fee|improvement_surcharge|total_amount|payment_type|trip_type|congestion_surcharge|\n",
      "+--------+--------------------+---------------------+------------------+----------+------------+------------+---------------+-------------+-----------+-----+-------+----------+------------+---------+---------------------+------------+------------+---------+--------------------+\n",
      "|       2| 2020-01-23 13:10:15|  2020-01-23 13:38:16|                 N|         1|          74|         130|              1|        12.77|       36.0|  0.0|    0.5|      2.05|        6.12|     null|                  0.3|       44.97|           1|        1|                 0.0|\n",
      "|    null| 2020-01-20 15:09:00|  2020-01-20 15:46:00|              null|      null|          67|          39|           null|          8.0|       29.9| 2.75|    0.5|       0.0|         0.0|     null|                  0.3|       33.45|        null|     null|                null|\n",
      "|       2| 2020-01-15 20:23:41|  2020-01-15 20:31:18|                 N|         1|         260|         157|              1|         1.27|        7.0|  0.5|    0.5|       0.0|         0.0|     null|                  0.3|         8.3|           2|        1|                 0.0|\n",
      "|       2| 2020-01-05 16:32:26|  2020-01-05 16:40:51|                 N|         1|          82|          83|              1|         1.25|        7.5|  0.0|    0.5|       0.0|         0.0|     null|                  0.3|         8.3|           2|        1|                 0.0|\n",
      "|       2| 2020-01-29 19:22:42|  2020-01-29 19:31:02|                 N|         1|         166|          42|              1|         1.84|        8.0|  1.0|    0.5|      2.94|         0.0|     null|                  0.3|       12.74|           1|        1|                 0.0|\n",
      "+--------+--------------------+---------------------+------------------+----------+------------+------------+---------------+-------------+-----------+-----+-------+----------+------------+---------+---------------------+------------+------------+---------+--------------------+\n",
      "only showing top 5 rows\n",
      "\n"
     ]
    },
    {
     "name": "stderr",
     "output_type": "stream",
     "text": [
      "\r",
      "                                                                                \r"
     ]
    }
   ],
   "source": [
    "df_green.show(5)"
   ]
  },
  {
   "cell_type": "code",
   "execution_count": 7,
   "id": "14695abd",
   "metadata": {},
   "outputs": [
    {
     "name": "stdout",
     "output_type": "stream",
     "text": [
      "root\n",
      " |-- VendorID: integer (nullable = true)\n",
      " |-- lpep_pickup_datetime: timestamp (nullable = true)\n",
      " |-- lpep_dropoff_datetime: timestamp (nullable = true)\n",
      " |-- store_and_fwd_flag: string (nullable = true)\n",
      " |-- RatecodeID: integer (nullable = true)\n",
      " |-- PULocationID: integer (nullable = true)\n",
      " |-- DOLocationID: integer (nullable = true)\n",
      " |-- passenger_count: integer (nullable = true)\n",
      " |-- trip_distance: double (nullable = true)\n",
      " |-- fare_amount: double (nullable = true)\n",
      " |-- extra: double (nullable = true)\n",
      " |-- mta_tax: double (nullable = true)\n",
      " |-- tip_amount: double (nullable = true)\n",
      " |-- tolls_amount: double (nullable = true)\n",
      " |-- ehail_fee: double (nullable = true)\n",
      " |-- improvement_surcharge: double (nullable = true)\n",
      " |-- total_amount: double (nullable = true)\n",
      " |-- payment_type: integer (nullable = true)\n",
      " |-- trip_type: integer (nullable = true)\n",
      " |-- congestion_surcharge: double (nullable = true)\n",
      "\n"
     ]
    }
   ],
   "source": [
    "df_green.printSchema()"
   ]
  },
  {
   "cell_type": "code",
   "execution_count": 8,
   "id": "1378525d",
   "metadata": {},
   "outputs": [],
   "source": [
    "# Adding all yellow taxi data for 2020 and 2021 to one PySpark DF\n",
    "\n",
    "df_yellow = spark.read.parquet(f'{data_dir}/pq/yellow/*/*')"
   ]
  },
  {
   "cell_type": "code",
   "execution_count": 9,
   "id": "59e85ceb",
   "metadata": {},
   "outputs": [
    {
     "name": "stderr",
     "output_type": "stream",
     "text": [
      "\r",
      "[Stage 3:>                                                          (0 + 1) / 1]\r",
      "\r",
      "                                                                                \r"
     ]
    },
    {
     "name": "stdout",
     "output_type": "stream",
     "text": [
      "+--------+--------------------+---------------------+---------------+-------------+----------+------------------+------------+------------+------------+-----------+-----+-------+----------+------------+---------------------+------------+--------------------+\n",
      "|VendorID|tpep_pickup_datetime|tpep_dropoff_datetime|passenger_count|trip_distance|RatecodeID|store_and_fwd_flag|PULocationID|DOLocationID|payment_type|fare_amount|extra|mta_tax|tip_amount|tolls_amount|improvement_surcharge|total_amount|congestion_surcharge|\n",
      "+--------+--------------------+---------------------+---------------+-------------+----------+------------------+------------+------------+------------+-----------+-----+-------+----------+------------+---------------------+------------+--------------------+\n",
      "|       2| 2020-01-06 09:18:38|  2020-01-06 09:33:56|              1|         3.03|         1|                 N|         263|         233|           1|       12.0|  0.0|    0.5|       1.5|         0.0|                  0.3|        16.8|                 2.5|\n",
      "|       2| 2020-01-08 18:55:19|  2020-01-08 18:58:38|              1|          0.4|         1|                 N|         234|         107|           1|        4.0|  1.0|    0.5|      1.66|         0.0|                  0.3|        9.96|                 2.5|\n",
      "|       2| 2020-01-16 12:11:53|  2020-01-16 12:42:44|              1|         2.46|         1|                 N|          68|         229|           1|       19.0|  0.0|    0.5|      4.46|         0.0|                  0.3|       26.76|                 2.5|\n",
      "|       2| 2020-01-11 01:55:59|  2020-01-11 02:03:21|              6|          1.9|         1|                 N|         230|          90|           1|        8.0|  0.5|    0.5|      2.36|         0.0|                  0.3|       14.16|                 2.5|\n",
      "|       2| 2020-01-01 21:31:48|  2020-01-01 21:36:01|              1|         0.77|         1|                 N|         238|         239|           1|        5.0|  0.5|    0.5|      1.76|         0.0|                  0.3|       10.56|                 2.5|\n",
      "+--------+--------------------+---------------------+---------------+-------------+----------+------------------+------------+------------+------------+-----------+-----+-------+----------+------------+---------------------+------------+--------------------+\n",
      "only showing top 5 rows\n",
      "\n",
      "root\n",
      " |-- VendorID: integer (nullable = true)\n",
      " |-- tpep_pickup_datetime: timestamp (nullable = true)\n",
      " |-- tpep_dropoff_datetime: timestamp (nullable = true)\n",
      " |-- passenger_count: integer (nullable = true)\n",
      " |-- trip_distance: double (nullable = true)\n",
      " |-- RatecodeID: integer (nullable = true)\n",
      " |-- store_and_fwd_flag: string (nullable = true)\n",
      " |-- PULocationID: integer (nullable = true)\n",
      " |-- DOLocationID: integer (nullable = true)\n",
      " |-- payment_type: integer (nullable = true)\n",
      " |-- fare_amount: double (nullable = true)\n",
      " |-- extra: double (nullable = true)\n",
      " |-- mta_tax: double (nullable = true)\n",
      " |-- tip_amount: double (nullable = true)\n",
      " |-- tolls_amount: double (nullable = true)\n",
      " |-- improvement_surcharge: double (nullable = true)\n",
      " |-- total_amount: double (nullable = true)\n",
      " |-- congestion_surcharge: double (nullable = true)\n",
      "\n"
     ]
    }
   ],
   "source": [
    "df_yellow.show(5)\n",
    "df_yellow.printSchema()"
   ]
  },
  {
   "cell_type": "code",
   "execution_count": 10,
   "id": "53a5b4c8",
   "metadata": {},
   "outputs": [
    {
     "name": "stdout",
     "output_type": "stream",
     "text": [
      "Columns of green taxi_data:\n",
      " ['VendorID', 'lpep_pickup_datetime', 'lpep_dropoff_datetime', 'store_and_fwd_flag', 'RatecodeID', 'PULocationID', 'DOLocationID', 'passenger_count', 'trip_distance', 'fare_amount', 'extra', 'mta_tax', 'tip_amount', 'tolls_amount', 'ehail_fee', 'improvement_surcharge', 'total_amount', 'payment_type', 'trip_type', 'congestion_surcharge']\n",
      "\n",
      "\n",
      "Columns of yellow taxi_data:\n",
      " ['VendorID', 'tpep_pickup_datetime', 'tpep_dropoff_datetime', 'passenger_count', 'trip_distance', 'RatecodeID', 'store_and_fwd_flag', 'PULocationID', 'DOLocationID', 'payment_type', 'fare_amount', 'extra', 'mta_tax', 'tip_amount', 'tolls_amount', 'improvement_surcharge', 'total_amount', 'congestion_surcharge']\n"
     ]
    }
   ],
   "source": [
    "# Viewing the column names as a list\n",
    "print(f'Columns of green taxi_data:\\n {df_green.columns}')\n",
    "print(f'\\n\\nColumns of yellow taxi_data:\\n {df_yellow.columns}')"
   ]
  },
  {
   "cell_type": "code",
   "execution_count": 12,
   "id": "e75669d0",
   "metadata": {},
   "outputs": [
    {
     "name": "stdout",
     "output_type": "stream",
     "text": [
      "{'congestion_surcharge', 'trip_distance', 'dropoff_datetime', 'passenger_count', 'extra', 'PULocationID', 'improvement_surcharge', 'mta_tax', 'VendorID', 'total_amount', 'RatecodeID', 'tip_amount', 'pickup_datetime', 'store_and_fwd_flag', 'tolls_amount', 'payment_type', 'fare_amount', 'DOLocationID'}\n"
     ]
    }
   ],
   "source": [
    "# The pickup_datetime column is missing so will rename those columns in both the datasets\n",
    "df_green = df_green \\\n",
    "                    .withColumnRenamed('lpep_pickup_datetime', 'pickup_datetime') \\\n",
    "                    .withColumnRenamed('lpep_dropoff_datetime', 'dropoff_datetime')\n",
    "df_yellow = df_yellow \\\n",
    "                    .withColumnRenamed('tpep_pickup_datetime', 'pickup_datetime') \\\n",
    "                    .withColumnRenamed('tpep_dropoff_datetime', 'dropoff_datetime')\n",
    "common_columns = set(df_green.columns) & set(df_yellow.columns)\n",
    "print(common_columns)        "
   ]
  },
  {
   "cell_type": "code",
   "execution_count": 13,
   "id": "35121cb4",
   "metadata": {},
   "outputs": [
    {
     "name": "stdout",
     "output_type": "stream",
     "text": [
      "['VendorID', 'pickup_datetime', 'dropoff_datetime', 'store_and_fwd_flag', 'RatecodeID', 'PULocationID', 'DOLocationID', 'passenger_count', 'trip_distance', 'fare_amount', 'extra', 'mta_tax', 'tip_amount', 'tolls_amount', 'improvement_surcharge', 'total_amount', 'payment_type', 'congestion_surcharge']\n"
     ]
    }
   ],
   "source": [
    "#we will check if the column in green trip data is available in yellow trip data and then append it to a list\n",
    "common_columns = [x for x in df_green.columns if x in set(df_yellow.columns)]\n",
    "print(common_columns)"
   ]
  },
  {
   "cell_type": "code",
   "execution_count": 18,
   "id": "407aef4c",
   "metadata": {},
   "outputs": [
    {
     "data": {
      "text/plain": [
       "['VendorID',\n",
       " 'pickup_datetime',\n",
       " 'dropoff_datetime',\n",
       " 'store_and_fwd_flag',\n",
       " 'RatecodeID',\n",
       " 'PULocationID',\n",
       " 'DOLocationID',\n",
       " 'passenger_count',\n",
       " 'trip_distance',\n",
       " 'fare_amount',\n",
       " 'extra',\n",
       " 'mta_tax',\n",
       " 'tip_amount',\n",
       " 'tolls_amount',\n",
       " 'improvement_surcharge',\n",
       " 'total_amount',\n",
       " 'payment_type',\n",
       " 'congestion_surcharge']"
      ]
     },
     "execution_count": 18,
     "metadata": {},
     "output_type": "execute_result"
    }
   ],
   "source": [
    "# saving the common columns for future use to specify the schema\n",
    "common_columns = [\n",
    "     'VendorID',\n",
    "     'pickup_datetime',\n",
    "     'dropoff_datetime',\n",
    "     'store_and_fwd_flag',\n",
    "     'RatecodeID',\n",
    "     'PULocationID',\n",
    "     'DOLocationID',\n",
    "     'passenger_count',\n",
    "     'trip_distance',\n",
    "     'fare_amount',\n",
    "     'extra',\n",
    "     'mta_tax',\n",
    "     'tip_amount',\n",
    "     'tolls_amount',\n",
    "     'improvement_surcharge',\n",
    "     'total_amount',\n",
    "     'payment_type',\n",
    "     'congestion_surcharge']"
   ]
  },
  {
   "cell_type": "code",
   "execution_count": 14,
   "id": "bf48ae92",
   "metadata": {},
   "outputs": [],
   "source": [
    "from pyspark.sql import functions as F"
   ]
  },
  {
   "cell_type": "code",
   "execution_count": 15,
   "id": "3279c1d4",
   "metadata": {},
   "outputs": [],
   "source": [
    "# Select these common columns from the datset and assign to a new dataset\n",
    "# select() function is similar to the select clause in SQL\n",
    "df_green_sel = df_green \\\n",
    "                        .select(common_columns)\\\n",
    "                        .withColumn('service_type', F.lit('green'))\n",
    "# Select these common columns from the datset\n",
    "# select() function is similar to the select clause in SQL\n",
    "df_yellow_sel = df_yellow \\\n",
    "                        .select(common_columns)\\\n",
    "                        .withColumn('service_type', F.lit('yellow'))"
   ]
  },
  {
   "cell_type": "code",
   "execution_count": 16,
   "id": "be134064",
   "metadata": {},
   "outputs": [],
   "source": [
    "# Combine the two datasets\n",
    "df_trips_data = df_green_sel.unionAll(df_yellow_sel)"
   ]
  },
  {
   "cell_type": "code",
   "execution_count": 17,
   "id": "e243424c",
   "metadata": {},
   "outputs": [
    {
     "name": "stderr",
     "output_type": "stream",
     "text": [
      "[Stage 4:=================================================>       (14 + 2) / 16]\r"
     ]
    },
    {
     "name": "stdout",
     "output_type": "stream",
     "text": [
      "+------------+--------+\n",
      "|service_type|   count|\n",
      "+------------+--------+\n",
      "|       green| 2304517|\n",
      "|      yellow|39649199|\n",
      "+------------+--------+\n",
      "\n"
     ]
    },
    {
     "name": "stderr",
     "output_type": "stream",
     "text": [
      "\r",
      "                                                                                \r"
     ]
    }
   ],
   "source": [
    "# Count the number of rows for each service type\n",
    "# count() function is a lazy function, hence we use the show() function to execute it\n",
    "df_trips_data.groupBy('service_type').count().show()"
   ]
  },
  {
   "cell_type": "code",
   "execution_count": 19,
   "id": "3e0041c2",
   "metadata": {},
   "outputs": [
    {
     "name": "stderr",
     "output_type": "stream",
     "text": [
      "/home/sanyashireen/spark/spark-3.2.3-bin-hadoop3.2/python/pyspark/sql/dataframe.py:138: FutureWarning: Deprecated in 2.0, use createOrReplaceTempView instead.\n",
      "  warnings.warn(\n"
     ]
    }
   ],
   "source": [
    "df_trips_data.registerTempTable('trips_data')"
   ]
  },
  {
   "cell_type": "code",
   "execution_count": 20,
   "id": "7af68dba",
   "metadata": {},
   "outputs": [],
   "source": [
    "df_result = spark.sql(\"\"\"\n",
    "SELECT \n",
    "    -- Reveneue grouping \n",
    "    PULocationID as revenue_zone,\n",
    "    date_trunc('month', pickup_datetime) as revenue_month, \n",
    "    service_type, \n",
    "    -- Revenue calculation \n",
    "    SUM(fare_amount) as revenue_monthly_fare,\n",
    "    SUM(extra) as revenue_monthly_extra,\n",
    "    SUM(mta_tax) as revenue_monthly_mta_tax,\n",
    "    SUM(tip_amount) as revenue_monthly_tip_amount,\n",
    "    SUM(tolls_amount) as revenue_monthly_tolls_amount,\n",
    "    SUM(improvement_surcharge) as revenue_monthly_improvement_surcharge,\n",
    "    SUM(total_amount) as revenue_monthly_total_amount,\n",
    "    SUM(congestion_surcharge) as revenue_monthly_congestion_surcharge,\n",
    "\n",
    "    -- Additional calculations\n",
    "    avg(passenger_count) as avg_montly_passenger_count,\n",
    "    avg(trip_distance) as avg_montly_trip_distance\n",
    "\n",
    "FROM \n",
    "    trips_data\n",
    "GROUP BY \n",
    "    1,2,3;\n",
    "\"\"\")"
   ]
  },
  {
   "cell_type": "code",
   "execution_count": 33,
   "id": "73c45cf3",
   "metadata": {},
   "outputs": [],
   "source": [
    "# writing the data to the local machine\n",
    "# to set the partitioning to 215\n",
    "df_result = df_result.repartition(215)"
   ]
  },
  {
   "cell_type": "code",
   "execution_count": 35,
   "id": "5da211be",
   "metadata": {},
   "outputs": [
    {
     "name": "stderr",
     "output_type": "stream",
     "text": [
      "                                                                                \r"
     ]
    }
   ],
   "source": [
    "# to change the partitioning to 1\n",
    "df_result.coalesce(1).write.parquet(f'{data_dir}/report/revenue/', mode='overwrite')"
   ]
  }
 ],
 "metadata": {
  "kernelspec": {
   "display_name": "Python 3 (ipykernel)",
   "language": "python",
   "name": "python3"
  },
  "language_info": {
   "codemirror_mode": {
    "name": "ipython",
    "version": 3
   },
   "file_extension": ".py",
   "mimetype": "text/x-python",
   "name": "python",
   "nbconvert_exporter": "python",
   "pygments_lexer": "ipython3",
   "version": "3.9.13"
  }
 },
 "nbformat": 4,
 "nbformat_minor": 5
}
